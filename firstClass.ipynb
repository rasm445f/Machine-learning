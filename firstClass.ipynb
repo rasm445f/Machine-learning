{
 "cells": [
  {
   "cell_type": "markdown",
   "id": "33ecbf27-c9e1-4cf3-a6e8-73c23de77672",
   "metadata": {},
   "source": [
    "# how to use %run\n",
    "\n",
    "this is an exaple of the %run command"
   ]
  },
  {
   "cell_type": "code",
   "execution_count": 9,
   "id": "16c153b3-37b5-4043-8a43-08be449f7525",
   "metadata": {
    "tags": []
   },
   "outputs": [
    {
     "name": "stdout",
     "output_type": "stream",
     "text": [
      "this is form my file\n"
     ]
    }
   ],
   "source": [
    "%run myScript"
   ]
  },
  {
   "cell_type": "markdown",
   "id": "801aa6d7-a0bc-4496-8177-cddc2e6de68f",
   "metadata": {
    "tags": []
   },
   "source": [
    "# how to write to a file"
   ]
  },
  {
   "cell_type": "code",
   "execution_count": 13,
   "id": "cf8f46f8-15c2-4b48-b38e-5afe14b6e362",
   "metadata": {
    "tags": []
   },
   "outputs": [
    {
     "name": "stdout",
     "output_type": "stream",
     "text": [
      "Overwriting writtenfile.txt\n"
     ]
    }
   ],
   "source": [
    "%%writefile writtenfile.txt\n",
    "this was written to the file"
   ]
  },
  {
   "cell_type": "markdown",
   "id": "1040d13d-bcec-40cb-bcd9-4c86293056fa",
   "metadata": {},
   "source": [
    "# timeit\n",
    "times the code over multiple runs"
   ]
  },
  {
   "cell_type": "code",
   "execution_count": 34,
   "id": "5d287265-5a25-4cca-bada-303bc4a4dc8a",
   "metadata": {
    "tags": []
   },
   "outputs": [
    {
     "name": "stdout",
     "output_type": "stream",
     "text": [
      "79.2 ns ± 0.154 ns per loop (mean ± std. dev. of 7 runs, 10,000,000 loops each)\n"
     ]
    }
   ],
   "source": [
    "%%timeit\n",
    "myList = [\"e\", \"r\", \"b\", \"x\", \"m\"]\n",
    "myList.sort()"
   ]
  },
  {
   "cell_type": "code",
   "execution_count": 36,
   "id": "64db2989-b9e2-483f-ad40-007e27e0d497",
   "metadata": {
    "tags": []
   },
   "outputs": [
    {
     "name": "stdin",
     "output_type": "stream",
     "text": [
      "Guess a number between 1 and 10:  5\n"
     ]
    },
    {
     "name": "stdout",
     "output_type": "stream",
     "text": [
      "Too high, try again!\n"
     ]
    },
    {
     "name": "stdin",
     "output_type": "stream",
     "text": [
      "Guess a number between 1 and 10:  3\n"
     ]
    },
    {
     "name": "stdout",
     "output_type": "stream",
     "text": [
      "Congratulations! You've guessed the number in 2 attempts.\n"
     ]
    }
   ],
   "source": [
    "import random\n",
    "\n",
    "def guess_the_number():\n",
    "    number_to_guess = random.randint(1, 10)\n",
    "    attempts = 0\n",
    "\n",
    "    while True:\n",
    "        try:\n",
    "            guess = int(input(\"Guess a number between 1 and 10: \"))\n",
    "            attempts += 1\n",
    "\n",
    "            if guess < number_to_guess:\n",
    "                print(\"Too low, try again!\")\n",
    "            elif guess > number_to_guess:\n",
    "                print(\"Too high, try again!\")\n",
    "            else:\n",
    "                print(f\"Congratulations! You've guessed the number in {attempts} attempts.\")\n",
    "                break\n",
    "        except ValueError:\n",
    "            print(\"Invalid input. Please enter a number.\")\n",
    "\n",
    "guess_the_number()"
   ]
  },
  {
   "cell_type": "code",
   "execution_count": null,
   "id": "905cc855-ee2b-4e9c-973c-26ac90b1f6d8",
   "metadata": {},
   "outputs": [],
   "source": []
  }
 ],
 "metadata": {
  "kernelspec": {
   "display_name": "Python 3 (ipykernel)",
   "language": "python",
   "name": "python3"
  },
  "language_info": {
   "codemirror_mode": {
    "name": "ipython",
    "version": 3
   },
   "file_extension": ".py",
   "mimetype": "text/x-python",
   "name": "python",
   "nbconvert_exporter": "python",
   "pygments_lexer": "ipython3",
   "version": "3.11.5"
  }
 },
 "nbformat": 4,
 "nbformat_minor": 5
}
